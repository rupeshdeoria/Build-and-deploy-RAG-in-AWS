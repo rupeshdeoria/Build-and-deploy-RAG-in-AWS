{
 "cells": [
  {
   "cell_type": "code",
   "execution_count": 1,
   "metadata": {},
   "outputs": [],
   "source": [
    "import numpy as np # linear algebra\n",
    "import pandas as pd # data processing\n",
    "import re #pattern searching in a string\n",
    "import plotly.express as px\n",
    "import plotly as py\n",
    "import matplotlib.pyplot as plt \n",
    "import seaborn as sns\n",
    "import matplotlib.pyplot as plt\n",
    "sns.set(style='darkgrid')\n",
    "import warnings\n",
    "warnings.filterwarnings(\"ignore\")"
   ]
  },
  {
   "cell_type": "code",
   "execution_count": 2,
   "metadata": {},
   "outputs": [],
   "source": [
    "df20 = pd.read_csv(\"Data_set/data_2020.csv\", parse_dates=['transaction_date'])\n",
    "df21 = pd.read_csv(\"Data_set/data_2021.csv\", parse_dates=['transaction_date'])\n",
    "df22 = pd.read_csv(\"Data_set/data_2022.csv\", parse_dates=['transaction_date'])\n",
    "df = pd.concat([df20,df21,df22],axis=0)\n"
   ]
  },
  {
   "cell_type": "code",
   "execution_count": 3,
   "metadata": {},
   "outputs": [],
   "source": [
    "df_test1 = df.copy(deep=False)"
   ]
  },
  {
   "cell_type": "code",
   "execution_count": 4,
   "metadata": {},
   "outputs": [
    {
     "data": {
      "text/html": [
       "<div>\n",
       "<style scoped>\n",
       "    .dataframe tbody tr th:only-of-type {\n",
       "        vertical-align: middle;\n",
       "    }\n",
       "\n",
       "    .dataframe tbody tr th {\n",
       "        vertical-align: top;\n",
       "    }\n",
       "\n",
       "    .dataframe thead th {\n",
       "        text-align: right;\n",
       "    }\n",
       "</style>\n",
       "<table border=\"1\" class=\"dataframe\">\n",
       "  <thead>\n",
       "    <tr style=\"text-align: right;\">\n",
       "      <th></th>\n",
       "      <th>missing_count</th>\n",
       "      <th>percent_missing</th>\n",
       "    </tr>\n",
       "  </thead>\n",
       "  <tbody>\n",
       "    <tr>\n",
       "      <th>user_id</th>\n",
       "      <td>0</td>\n",
       "      <td>0.00</td>\n",
       "    </tr>\n",
       "    <tr>\n",
       "      <th>bill_id</th>\n",
       "      <td>0</td>\n",
       "      <td>0.00</td>\n",
       "    </tr>\n",
       "    <tr>\n",
       "      <th>line_item_amount</th>\n",
       "      <td>0</td>\n",
       "      <td>0.00</td>\n",
       "    </tr>\n",
       "    <tr>\n",
       "      <th>bill_discount</th>\n",
       "      <td>0</td>\n",
       "      <td>0.00</td>\n",
       "    </tr>\n",
       "    <tr>\n",
       "      <th>transaction_date</th>\n",
       "      <td>0</td>\n",
       "      <td>0.00</td>\n",
       "    </tr>\n",
       "    <tr>\n",
       "      <th>description</th>\n",
       "      <td>14</td>\n",
       "      <td>0.00</td>\n",
       "    </tr>\n",
       "    <tr>\n",
       "      <th>inventory_category</th>\n",
       "      <td>640313</td>\n",
       "      <td>11.87</td>\n",
       "    </tr>\n",
       "    <tr>\n",
       "      <th>colour</th>\n",
       "      <td>15344</td>\n",
       "      <td>0.28</td>\n",
       "    </tr>\n",
       "    <tr>\n",
       "      <th>size</th>\n",
       "      <td>15344</td>\n",
       "      <td>0.28</td>\n",
       "    </tr>\n",
       "    <tr>\n",
       "      <th>zone_name</th>\n",
       "      <td>0</td>\n",
       "      <td>0.00</td>\n",
       "    </tr>\n",
       "    <tr>\n",
       "      <th>store_name</th>\n",
       "      <td>0</td>\n",
       "      <td>0.00</td>\n",
       "    </tr>\n",
       "    <tr>\n",
       "      <th>year</th>\n",
       "      <td>0</td>\n",
       "      <td>0.00</td>\n",
       "    </tr>\n",
       "  </tbody>\n",
       "</table>\n",
       "</div>"
      ],
      "text/plain": [
       "                    missing_count  percent_missing\n",
       "user_id                         0             0.00\n",
       "bill_id                         0             0.00\n",
       "line_item_amount                0             0.00\n",
       "bill_discount                   0             0.00\n",
       "transaction_date                0             0.00\n",
       "description                    14             0.00\n",
       "inventory_category         640313            11.87\n",
       "colour                      15344             0.28\n",
       "size                        15344             0.28\n",
       "zone_name                       0             0.00\n",
       "store_name                      0             0.00\n",
       "year                            0             0.00"
      ]
     },
     "execution_count": 4,
     "metadata": {},
     "output_type": "execute_result"
    }
   ],
   "source": [
    "def find_nan(df):\n",
    "    columns = df.columns\n",
    "    col_values = df.isna().sum().values\n",
    "    temp = pd.DataFrame(data=col_values,index=columns,columns=['missing_count'])\n",
    "    temp['percent_missing'] = np.round((temp['missing_count'] / df.shape[0]) *100 ,2)\n",
    "    return temp\n",
    "\n",
    "find_nan(df)"
   ]
  },
  {
   "cell_type": "code",
   "execution_count": 5,
   "metadata": {},
   "outputs": [
    {
     "name": "stdout",
     "output_type": "stream",
     "text": [
      "Unique colours count before: 344\n",
      "Colours found:  2259362\n",
      "Unique colours count after: 390\n",
      "Unique size count before: 52\n",
      "Sizes found:  2567244\n",
      "Unique size count after: 107\n"
     ]
    }
   ],
   "source": [
    "df.description = df.description.fillna(df.inventory_category)\n",
    "df.description = df.description.fillna(\"Misc\")\n",
    "\n",
    "def get_product(txt,pattern):\n",
    "    if isinstance(txt, str):\n",
    "\n",
    "        #search and check if split word exists\n",
    "        searched_word = re.search(pattern, txt)\n",
    "        \n",
    "        #word exists\n",
    "        if searched_word:\n",
    "            splitted_string = re.split(pattern, txt)[0]\n",
    "            # check if empty list is returned->when there is only pattern available in 'txt'\n",
    "            if splitted_string == '':\n",
    "                return 'Misc'\n",
    "            else:\n",
    "                return splitted_string.strip()\n",
    "            \n",
    "        #split word not exists(but the product name can still be present , so we'll need the entire string)\n",
    "        else:\n",
    "            return txt\n",
    "        \n",
    "    # any other value found other than string datatype\n",
    "    else:\n",
    "        return 'Misc'\n",
    "    \n",
    "df['desc_copy'] = df['description'].copy()\n",
    "df['desc_copy'] = df['desc_copy'].fillna('Misc')\n",
    "\n",
    "#for patterns starting with IT,CORE-, A16-,A17-,S16-,S18-,TBA07SD7890(LENGTH=11)\n",
    "df[['product']] = df[['desc_copy']].applymap(lambda row:get_product(row,pattern=r'IT[A-Z0-9]+|CORE-|\\b[A-Z]\\d{2}-|\\b[A-Z0-9]{11}\\b')) \n",
    "\n",
    "#product names are acronyms are their lengths are not greater than 2.\n",
    "df[['product']] = df[['product']].applymap(lambda row: 'Misc' if len(row.split())>=2 else row)\n",
    "\n",
    "df['ic_copy'] = df['inventory_category'].copy()\n",
    "df['ic_copy'] = df['ic_copy'].fillna('Misc')\n",
    "df[['ic_copy']] = df[['ic_copy']].applymap(lambda row: re.sub(r'na','',row,flags=re.IGNORECASE))\n",
    "\n",
    "df['colour'] = df['colour'].fillna('Misc')\n",
    "df['colour'] = df['colour'].str.replace('NOT-CAPTURED','Misc')\n",
    "\n",
    "df['size'] = df['size'].fillna('Misc')\n",
    "df['size'] = df['size'].str.replace('NOT-CAPTURED','Misc')\n",
    "\n",
    "## IDENTIFYING COLOURS\n",
    "all_colours = df['colour'].value_counts().index.tolist()\n",
    "pattern = r'\\b(?:' + '|'.join(re.escape(color)  for color in all_colours if isinstance(color,str)) + r')\\b'\n",
    "\n",
    "def find(txt,pattern):\n",
    "    x = re.findall(pattern, txt,flags=re.IGNORECASE)\n",
    "    if x==[]:\n",
    "        return ('Misc')\n",
    "    return ' '.join(x)\n",
    "\n",
    "print('Unique colours count before:',len(df['colour'].unique()))\n",
    "\n",
    "unknown_colours_bef = df[df['colour']=='Misc'].shape[0]\n",
    "df.loc[(df['colour']=='Misc'),'colour'] = df.loc[(df['colour']=='Misc'),'ic_copy'].map(lambda row: find(row,pattern))\n",
    "unknown_colours_after = df[df['colour']=='Misc'].shape[0]\n",
    "print('Colours found: ',unknown_colours_bef - unknown_colours_after)\n",
    "\n",
    "print('Unique colours count after:',len(df['colour'].unique()))\n",
    "\n",
    "## IDENTIFYING SIZE\n",
    "all_size = df['size'].unique().tolist()\n",
    "pattern = r'\\b(?:' + '|'.join(re.escape(size) for size in all_size if isinstance(size,str)) + r')\\b'\n",
    "\n",
    "print('Unique size count before:',len(df['size'].unique()))\n",
    "\n",
    "unknown_size_bef = df[df['size']=='Misc'].shape[0]\n",
    "df.loc[(df['size']=='Misc'),'size'] = df.loc[(df['size']=='Misc'),'ic_copy'].map(lambda row: find(row,pattern))\n",
    "df.loc[(df['size']=='Misc'),'size'] = df.loc[(df['size']=='Misc'),'ic_copy'].map(lambda row: find(row,r'\\d*x\\d*x\\d*|\\d*mm|\\d*cm|\\d*m'))\n",
    "unknown_size_after = df[df['size']=='Misc'].shape[0]\n",
    "print('Sizes found: ',unknown_size_bef - unknown_size_after)\n",
    "\n",
    "print('Unique size count after:',len(df['size'].unique()))\n",
    "\n",
    "replace = {'TR':'MENS TROUSER',\n",
    "'MSP':'MENS SPORTSCOAT',\n",
    "'BSP':'MENS SPORTSCOAT',\n",
    "'TWB': 'MENS TROUSER WITH BELT',\n",
    "'JKT': 'MENS JACKET',\n",
    "'SH':'MENS SHIRT',\n",
    "'MSH':'MENS SHIRT',\n",
    "'MTR':'MENS TROUSER WITH BELT',\n",
    "'MBL':'MENS BELT',\n",
    "'BLT':'MENS BELT',\n",
    "'SR':'MENS SHORTS',\n",
    "'MTS':'MENS T-SHIRT',\n",
    "'TS':'MENS T-SHIRT',\n",
    "'BSH':'BOYS SHIRT',\n",
    "'SW':'MENS SWEATER',\n",
    "'BDE':'BOYS DENIM',\n",
    "'MFW':'MENS FOOTWEAR',\n",
    "'FW':'MENS FOOTWEAR',\n",
    "'BDNM':'BOYS DENIM',\n",
    "'SX':'MENS SOCKS',\n",
    "'MSO':'MENS SHORTS',\n",
    "'SO':'MENS SHORTS',\n",
    "'MDE':'MENS DENIM',\n",
    "'BTS':'BOYS T-SHIRT',\n",
    "'BSO':'BOYS SHORTS',\n",
    "'MDNM':'MENS DENIM',\n",
    "'BTR':'BOYS TROUSER',\n",
    "'MSW':'MENS SWEATER',\n",
    "'SCKS':'MENS SOCKS',\n",
    "'MSX':'MENS SOCKS',\n",
    "'BSW':'BOYS SWEATER',\n",
    "'MJKT':'MENS JACKET',\n",
    "'MJA':'MENS JACKET',\n",
    "'BJKT':'BOYS JACKET',\n",
    "'BJO':'BOYS Jogger',\n",
    "'MSC':'MENS JACKET',\n",
    "'BS':'BOYS SHIRT',\n",
    "'MWL':'Mens Wallet - Sportswear',\n",
    "'BJA':'BOYS JACKET',\n",
    "'BSR':'BOYS SHORTS',\n",
    "'MDN':'MENS Denim Trouser',\n",
    "'BDN':'Boys Denim Trouser - Jeanswear',\n",
    "'KT':'MENS KNIT TROUSER',\n",
    "'MJGR':'MENS JOGGER',\n",
    "'TBG':'Trolley Bag',\n",
    "'CBG':'CARRY BAG',\n",
    "'MTIE':'MALE TIE',\n",
    "'MJO':'MENS JOGGER',\n",
    "'MWC':'MENS BANDI'}\n",
    "\n",
    "df['inventory_category'] = df['product'].map(lambda x: replace[x] if x in replace.keys() else x)"
   ]
  },
  {
   "cell_type": "code",
   "execution_count": 6,
   "metadata": {},
   "outputs": [
    {
     "data": {
      "text/html": [
       "<div>\n",
       "<style scoped>\n",
       "    .dataframe tbody tr th:only-of-type {\n",
       "        vertical-align: middle;\n",
       "    }\n",
       "\n",
       "    .dataframe tbody tr th {\n",
       "        vertical-align: top;\n",
       "    }\n",
       "\n",
       "    .dataframe thead th {\n",
       "        text-align: right;\n",
       "    }\n",
       "</style>\n",
       "<table border=\"1\" class=\"dataframe\">\n",
       "  <thead>\n",
       "    <tr style=\"text-align: right;\">\n",
       "      <th></th>\n",
       "      <th>missing_count</th>\n",
       "      <th>percent_missing</th>\n",
       "    </tr>\n",
       "  </thead>\n",
       "  <tbody>\n",
       "    <tr>\n",
       "      <th>user_id</th>\n",
       "      <td>0</td>\n",
       "      <td>0.0</td>\n",
       "    </tr>\n",
       "    <tr>\n",
       "      <th>bill_id</th>\n",
       "      <td>0</td>\n",
       "      <td>0.0</td>\n",
       "    </tr>\n",
       "    <tr>\n",
       "      <th>line_item_amount</th>\n",
       "      <td>0</td>\n",
       "      <td>0.0</td>\n",
       "    </tr>\n",
       "    <tr>\n",
       "      <th>bill_discount</th>\n",
       "      <td>0</td>\n",
       "      <td>0.0</td>\n",
       "    </tr>\n",
       "    <tr>\n",
       "      <th>transaction_date</th>\n",
       "      <td>0</td>\n",
       "      <td>0.0</td>\n",
       "    </tr>\n",
       "    <tr>\n",
       "      <th>description</th>\n",
       "      <td>0</td>\n",
       "      <td>0.0</td>\n",
       "    </tr>\n",
       "    <tr>\n",
       "      <th>inventory_category</th>\n",
       "      <td>0</td>\n",
       "      <td>0.0</td>\n",
       "    </tr>\n",
       "    <tr>\n",
       "      <th>colour</th>\n",
       "      <td>0</td>\n",
       "      <td>0.0</td>\n",
       "    </tr>\n",
       "    <tr>\n",
       "      <th>size</th>\n",
       "      <td>0</td>\n",
       "      <td>0.0</td>\n",
       "    </tr>\n",
       "    <tr>\n",
       "      <th>zone_name</th>\n",
       "      <td>0</td>\n",
       "      <td>0.0</td>\n",
       "    </tr>\n",
       "    <tr>\n",
       "      <th>store_name</th>\n",
       "      <td>0</td>\n",
       "      <td>0.0</td>\n",
       "    </tr>\n",
       "    <tr>\n",
       "      <th>year</th>\n",
       "      <td>0</td>\n",
       "      <td>0.0</td>\n",
       "    </tr>\n",
       "    <tr>\n",
       "      <th>desc_copy</th>\n",
       "      <td>0</td>\n",
       "      <td>0.0</td>\n",
       "    </tr>\n",
       "    <tr>\n",
       "      <th>product</th>\n",
       "      <td>0</td>\n",
       "      <td>0.0</td>\n",
       "    </tr>\n",
       "    <tr>\n",
       "      <th>ic_copy</th>\n",
       "      <td>0</td>\n",
       "      <td>0.0</td>\n",
       "    </tr>\n",
       "  </tbody>\n",
       "</table>\n",
       "</div>"
      ],
      "text/plain": [
       "                    missing_count  percent_missing\n",
       "user_id                         0              0.0\n",
       "bill_id                         0              0.0\n",
       "line_item_amount                0              0.0\n",
       "bill_discount                   0              0.0\n",
       "transaction_date                0              0.0\n",
       "description                     0              0.0\n",
       "inventory_category              0              0.0\n",
       "colour                          0              0.0\n",
       "size                            0              0.0\n",
       "zone_name                       0              0.0\n",
       "store_name                      0              0.0\n",
       "year                            0              0.0\n",
       "desc_copy                       0              0.0\n",
       "product                         0              0.0\n",
       "ic_copy                         0              0.0"
      ]
     },
     "execution_count": 6,
     "metadata": {},
     "output_type": "execute_result"
    }
   ],
   "source": [
    "find_nan(df)"
   ]
  },
  {
   "cell_type": "code",
   "execution_count": 7,
   "metadata": {},
   "outputs": [],
   "source": [
    "# extract weekday and month from transaction date\n",
    "df['month'] = df['transaction_date'].dt.month_name().map({'January':1, 'February':2,'March':3, 'April':4, 'May':5,  'June':6, 'July':7, 'August':8, 'September':9, 'October':10, 'November':11, 'December':12})\n",
    "df['weekday'] = df['transaction_date'].dt.day_name().map({'Monday':1, 'Tuesday':2,'Wednesday':3, 'Thursday':4, 'Friday':5,  'Saturday':6, 'Sunday':7})\n",
    "df['zone_name'] = df['zone_name'].map({'East':1, 'South':2, 'North':3, 'West':4, 'ROOT':5, 'Central':6}).astype(int)"
   ]
  },
  {
   "cell_type": "code",
   "execution_count": 8,
   "metadata": {},
   "outputs": [],
   "source": [
    "price_df = df.copy(deep=False)"
   ]
  },
  {
   "cell_type": "code",
   "execution_count": 9,
   "metadata": {},
   "outputs": [],
   "source": [
    "from datetime import datetime\n",
    "import datetime as dt\n",
    "df[\"transaction_date\"] = df[\"transaction_date\"].dt.date\n",
    "snapshot_date = max(df.transaction_date) + dt.timedelta(days=1)"
   ]
  },
  {
   "cell_type": "code",
   "execution_count": 10,
   "metadata": {},
   "outputs": [],
   "source": [
    "rfm = df.groupby('user_id').agg({\n",
    "    'transaction_date': lambda x: (snapshot_date - x.max()).days, \n",
    "    'bill_id': lambda x: len(x.unique()), \n",
    "    'line_item_amount': lambda x: x.sum(), \n",
    "    'bill_discount': lambda x: x.sum(), \n",
    "    'product': lambda x: x.count()\n",
    "    }).reset_index()\n",
    "rfm['transaction_date'] = rfm['transaction_date'].astype(int)\n",
    "# Rename columns\n",
    "rfm.rename(columns={'transaction_date': 'Recency', \n",
    "                         'bill_id': 'Frequency', \n",
    "                         'line_item_amount': 'MonetaryValue','bill_discount':'DiscountValue', 'product':'Product'}, inplace=True)"
   ]
  },
  {
   "cell_type": "code",
   "execution_count": 15,
   "metadata": {},
   "outputs": [
    {
     "data": {
      "image/png": "[encoded data removed]",
      "text/plain": [
       "<Figure size 1500x300 with 3 Axes>"
      ]
     },
     "metadata": {},
     "output_type": "display_data"
    }
   ],
   "source": [
    "\n",
    "\n",
    "fig, ax = plt.subplots(1, 3, figsize=(15,3))\n",
    "sns.distplot(rfm['Recency'], ax=ax[0])\n",
    "sns.distplot(rfm['Frequency'], ax=ax[1])\n",
    "sns.distplot(rfm['MonetaryValue'], ax=ax[2])\n",
    "plt.tight_layout()\n",
    "plt.show()\n",
    "\n"
   ]
  },
  {
   "cell_type": "code",
   "execution_count": 14,
   "metadata": {},
   "outputs": [
    {
     "data": {
      "image/png": "[encoded data removed]",
      "text/plain": [
       "<Figure size 1200x1000 with 3 Axes>"
      ]
     },
     "metadata": {},
     "output_type": "display_data"
    }
   ],
   "source": [
    "plt.figure(figsize=(12,10))\n",
    "\n",
    "# Plot recency distribution\n",
    "plt.subplot(3, 1, 1); sns.distplot(rfm['Recency'])\n",
    "\n",
    "# Plot frequency distribution\n",
    "plt.subplot(3, 1, 2); sns.distplot(rfm['Frequency'])\n",
    "\n",
    "# Plot monetary value distribution\n",
    "plt.subplot(3, 1, 3); sns.distplot(rfm['MonetaryValue'])\n",
    "\n",
    "# Show the plot\n",
    "plt.show()"
   ]
  },
  {
   "cell_type": "code",
   "execution_count": 16,
   "metadata": {},
   "outputs": [],
   "source": [
    "from scipy import stats\n",
    "def analyze_skewness(x):\n",
    "    fig, ax = plt.subplots(2, 2, figsize=(5,5))\n",
    "    sns.distplot(rfm[x], ax=ax[0,0])\n",
    "    sns.distplot(np.log(rfm[x]), ax=ax[0,1])\n",
    "    sns.distplot(np.sqrt(rfm[x]), ax=ax[1,0])\n",
    "    sns.distplot(stats.boxcox(rfm[x])[0], ax=ax[1,1])\n",
    "    plt.tight_layout()\n",
    "    plt.show()\n",
    "    \n",
    "#     print(rfm[x].skew().round(2))\n",
    "#     print(np.log(rfm[x]).skew().round(2))\n",
    "#     print(np.sqrt(rfm[x]).skew().round(2))\n",
    "#     print(pd.Series(stats.boxcox(rfm[x])[0]).skew().round(2))\n",
    "    \n",
    "    print('Log Transform : The skew coefficient of', rfm[x].skew().round(2), 'to', np.log(rfm[x]).skew().round(2))\n",
    "    print('Square Root Transform : The skew coefficient of', rfm[x].skew().round(2), 'to', np.sqrt(rfm[x]).skew().round(2))\n",
    "    print('Box-Cox Transform : The skew coefficient of', rfm[x].skew().round(2), 'to', pd.Series(stats.boxcox(rfm[x])[0]).skew().round(2))"
   ]
  },
  {
   "cell_type": "code",
   "execution_count": 17,
   "metadata": {},
   "outputs": [
    {
     "data": {
      "image/png": "[encoded data removed]",
      "text/plain": [
       "<Figure size 500x500 with 4 Axes>"
      ]
     },
     "metadata": {},
     "output_type": "display_data"
    },
    {
     "name": "stdout",
     "output_type": "stream",
     "text": [
      "Log Transform : The skew coefficient of 0.66 to -1.45\n",
      "Square Root Transform : The skew coefficient of 0.66 to -0.03\n",
      "Box-Cox Transform : The skew coefficient of 0.66 to -0.16\n"
     ]
    }
   ],
   "source": [
    "analyze_skewness(\"Recency\")"
   ]
  },
  {
   "cell_type": "code",
   "execution_count": 18,
   "metadata": {},
   "outputs": [
    {
     "data": {
      "image/png": "[encoded data removed]",
      "text/plain": [
       "<Figure size 500x500 with 4 Axes>"
      ]
     },
     "metadata": {},
     "output_type": "display_data"
    },
    {
     "name": "stdout",
     "output_type": "stream",
     "text": [
      "Log Transform : The skew coefficient of 15.39 to 1.93\n",
      "Square Root Transform : The skew coefficient of 15.39 to 3.91\n",
      "Box-Cox Transform : The skew coefficient of 15.39 to 0.86\n"
     ]
    }
   ],
   "source": [
    "analyze_skewness(\"Frequency\")"
   ]
  },
  {
   "cell_type": "code",
   "execution_count": 19,
   "metadata": {},
   "outputs": [
    {
     "data": {
      "image/png": "[encoded data removed]",
      "text/plain": [
       "<Figure size 1000x300 with 2 Axes>"
      ]
     },
     "metadata": {},
     "output_type": "display_data"
    },
    {
     "name": "stdout",
     "output_type": "stream",
     "text": [
      "66.32\n",
      "2.27\n"
     ]
    }
   ],
   "source": [
    "\n",
    "\n",
    "fig, ax = plt.subplots(1, 2, figsize=(10,3))\n",
    "sns.distplot(rfm['MonetaryValue'], ax=ax[0])\n",
    "sns.distplot(np.cbrt(rfm['MonetaryValue']), ax=ax[1])\n",
    "plt.show()\n",
    "print(rfm['MonetaryValue'].skew().round(2))\n",
    "print(np.cbrt(rfm['MonetaryValue']).skew().round(2))\n",
    "\n"
   ]
  },
  {
   "cell_type": "code",
   "execution_count": 20,
   "metadata": {},
   "outputs": [
    {
     "data": {
      "text/plain": [
       "array([20.6495118 , 29.00039627, 25.32690774, ..., 20.94999455,\n",
       "       19.12566746, 17.32256025])"
      ]
     },
     "execution_count": 20,
     "metadata": {},
     "output_type": "execute_result"
    }
   ],
   "source": [
    "pd.Series(np.cbrt(rfm['MonetaryValue'])).values\n"
   ]
  },
  {
   "cell_type": "code",
   "execution_count": 11,
   "metadata": {},
   "outputs": [
    {
     "data": {
      "text/html": [
       "<div>\n",
       "<style scoped>\n",
       "    .dataframe tbody tr th:only-of-type {\n",
       "        vertical-align: middle;\n",
       "    }\n",
       "\n",
       "    .dataframe tbody tr th {\n",
       "        vertical-align: top;\n",
       "    }\n",
       "\n",
       "    .dataframe thead th {\n",
       "        text-align: right;\n",
       "    }\n",
       "</style>\n",
       "<table border=\"1\" class=\"dataframe\">\n",
       "  <thead>\n",
       "    <tr style=\"text-align: right;\">\n",
       "      <th></th>\n",
       "      <th>Recency</th>\n",
       "      <th>Frequency</th>\n",
       "      <th>MonetaryValue</th>\n",
       "      <th>DiscountValue</th>\n",
       "      <th>Product</th>\n",
       "    </tr>\n",
       "  </thead>\n",
       "  <tbody>\n",
       "    <tr>\n",
       "      <th>643776</th>\n",
       "      <td>20.218111</td>\n",
       "      <td>0.0</td>\n",
       "      <td>17.322563</td>\n",
       "      <td>18.978732</td>\n",
       "      <td>1.167247</td>\n",
       "    </tr>\n",
       "    <tr>\n",
       "      <th>643777</th>\n",
       "      <td>20.065915</td>\n",
       "      <td>0.0</td>\n",
       "      <td>20.405875</td>\n",
       "      <td>29.782875</td>\n",
       "      <td>1.437462</td>\n",
       "    </tr>\n",
       "    <tr>\n",
       "      <th>643778</th>\n",
       "      <td>22.356589</td>\n",
       "      <td>0.0</td>\n",
       "      <td>20.949995</td>\n",
       "      <td>19.574338</td>\n",
       "      <td>1.319416</td>\n",
       "    </tr>\n",
       "    <tr>\n",
       "      <th>643779</th>\n",
       "      <td>22.176344</td>\n",
       "      <td>0.0</td>\n",
       "      <td>19.125667</td>\n",
       "      <td>19.309788</td>\n",
       "      <td>1.167247</td>\n",
       "    </tr>\n",
       "    <tr>\n",
       "      <th>643780</th>\n",
       "      <td>18.121678</td>\n",
       "      <td>0.0</td>\n",
       "      <td>17.322560</td>\n",
       "      <td>25.194221</td>\n",
       "      <td>1.167247</td>\n",
       "    </tr>\n",
       "  </tbody>\n",
       "</table>\n",
       "</div>"
      ],
      "text/plain": [
       "          Recency  Frequency  MonetaryValue  DiscountValue   Product\n",
       "643776  20.218111        0.0      17.322563      18.978732  1.167247\n",
       "643777  20.065915        0.0      20.405875      29.782875  1.437462\n",
       "643778  22.356589        0.0      20.949995      19.574338  1.319416\n",
       "643779  22.176344        0.0      19.125667      19.309788  1.167247\n",
       "643780  18.121678        0.0      17.322560      25.194221  1.167247"
      ]
     },
     "execution_count": 11,
     "metadata": {},
     "output_type": "execute_result"
    }
   ],
   "source": [
    "# Set the Numbers\n",
    "from scipy import stats\n",
    "customers_fix = pd.DataFrame()\n",
    "customers_fix[\"Recency\"] = stats.boxcox(rfm['Recency'])[0]\n",
    "customers_fix[\"Frequency\"] = stats.boxcox(rfm['Frequency'])[0]\n",
    "customers_fix[\"MonetaryValue\"] = pd.Series(np.cbrt(rfm['MonetaryValue'])).values\n",
    "customers_fix[\"DiscountValue\"]  = pd.Series(np.cbrt(rfm['DiscountValue'])).values\n",
    "customers_fix[\"Product\"] = stats.boxcox(rfm['Product'])[0]\n",
    "customers_fix.tail()"
   ]
  },
  {
   "cell_type": "code",
   "execution_count": 12,
   "metadata": {},
   "outputs": [
    {
     "name": "stdout",
     "output_type": "stream",
     "text": [
      "[-0. -0. -0.  0.  0.]\n",
      "[1. 1. 1. 1. 1.]\n"
     ]
    }
   ],
   "source": [
    "# Import library\n",
    "from sklearn.preprocessing import StandardScaler\n",
    "# Initialize the Object\n",
    "scaler = StandardScaler()\n",
    "# Fit and Transform The Data\n",
    "scaler.fit(customers_fix)\n",
    "customers_normalized = scaler.transform(customers_fix)\n",
    "# Assert that it has mean 0 and variance 1\n",
    "print(customers_normalized.mean(axis = 0).round(2)) \n",
    "print(customers_normalized.std(axis = 0).round(2)) "
   ]
  },
  {
   "cell_type": "code",
   "execution_count": 23,
   "metadata": {},
   "outputs": [
    {
     "data": {
      "text/html": [
       "<div>\n",
       "<style scoped>\n",
       "    .dataframe tbody tr th:only-of-type {\n",
       "        vertical-align: middle;\n",
       "    }\n",
       "\n",
       "    .dataframe tbody tr th {\n",
       "        vertical-align: top;\n",
       "    }\n",
       "\n",
       "    .dataframe thead th {\n",
       "        text-align: right;\n",
       "    }\n",
       "</style>\n",
       "<table border=\"1\" class=\"dataframe\">\n",
       "  <thead>\n",
       "    <tr style=\"text-align: right;\">\n",
       "      <th></th>\n",
       "      <th>0</th>\n",
       "      <th>1</th>\n",
       "      <th>2</th>\n",
       "      <th>3</th>\n",
       "      <th>4</th>\n",
       "    </tr>\n",
       "  </thead>\n",
       "  <tbody>\n",
       "    <tr>\n",
       "      <th>0</th>\n",
       "      <td>-0.455966</td>\n",
       "      <td>1.256766</td>\n",
       "      <td>0.213462</td>\n",
       "      <td>-0.320487</td>\n",
       "      <td>0.922435</td>\n",
       "    </tr>\n",
       "    <tr>\n",
       "      <th>1</th>\n",
       "      <td>0.198714</td>\n",
       "      <td>1.747769</td>\n",
       "      <td>1.294505</td>\n",
       "      <td>1.904528</td>\n",
       "      <td>1.129113</td>\n",
       "    </tr>\n",
       "    <tr>\n",
       "      <th>2</th>\n",
       "      <td>-0.083692</td>\n",
       "      <td>1.587543</td>\n",
       "      <td>0.818963</td>\n",
       "      <td>-0.320487</td>\n",
       "      <td>0.999124</td>\n",
       "    </tr>\n",
       "  </tbody>\n",
       "</table>\n",
       "</div>"
      ],
      "text/plain": [
       "          0         1         2         3         4\n",
       "0 -0.455966  1.256766  0.213462 -0.320487  0.922435\n",
       "1  0.198714  1.747769  1.294505  1.904528  1.129113\n",
       "2 -0.083692  1.587543  0.818963 -0.320487  0.999124"
      ]
     },
     "execution_count": 23,
     "metadata": {},
     "output_type": "execute_result"
    }
   ],
   "source": [
    "pd.DataFrame(customers_normalized).head(3)"
   ]
  },
  {
   "cell_type": "code",
   "execution_count": 45,
   "metadata": {},
   "outputs": [
    {
     "data": {
      "image/png": "[encoded data removed]",
      "text/plain": [
       "<Figure size 1200x800 with 1 Axes>"
      ]
     },
     "metadata": {},
     "output_type": "display_data"
    }
   ],
   "source": [
    "plt.figure(figsize=(12,8))\n",
    "\n",
    "from sklearn.cluster import KMeans\n",
    "from scipy.spatial.distance import cdist\n",
    "K = range(1, 20)\n",
    "\n",
    "distortions = []\n",
    "inertias = []\n",
    "mapping1 = {}\n",
    "sse = {}\n",
    "for k in K:\n",
    "    kmeans = KMeans(n_clusters=k, random_state=42)\n",
    "    kmeans.fit(customers_normalized)\n",
    "    \n",
    "    distortions.append(sum(np.min(cdist(customers_normalized, kmeans.cluster_centers_,\n",
    "                                        'euclidean'), axis=1)) / customers_normalized.shape[0])\n",
    "    inertias.append(kmeans.inertia_)\n",
    " \n",
    "    mapping1[k] = sum(np.min(cdist(customers_normalized, kmeans.cluster_centers_,\n",
    "                                   'euclidean'), axis=1)) / customers_normalized.shape[0]\n",
    "    \n",
    "    sse[k] = kmeans.inertia_ # SSE to closest cluster centroid\n",
    "\n",
    "plt.title('The Elbow Method')\n",
    "plt.xlabel('k')\n",
    "plt.ylabel('SSE')\n",
    "sns.pointplot(x=list(sse.keys()), y=list(sse.values()))\n",
    "plt.show()"
   ]
  },
  {
   "cell_type": "code",
   "execution_count": 46,
   "metadata": {},
   "outputs": [
    {
     "name": "stdout",
     "output_type": "stream",
     "text": [
      "1 : 1.96875705369015\n",
      "2 : 1.4974057057216987\n",
      "3 : 1.3430356934368268\n",
      "4 : 1.303551851252584\n",
      "5 : 1.124292031114799\n",
      "6 : 1.06683462383651\n",
      "7 : 0.9716552172065428\n",
      "8 : 0.9278547365207485\n",
      "9 : 0.9120725009512979\n",
      "10 : 0.875729161907328\n",
      "11 : 0.8140837230465713\n",
      "12 : 0.7712712720399706\n",
      "13 : 0.7633685900529363\n",
      "14 : 0.7294977304283989\n",
      "15 : 0.7033931740252861\n",
      "16 : 0.6739717868947284\n",
      "17 : 0.6678313512636329\n",
      "18 : 0.6595278665059039\n",
      "19 : 0.6541796998541356\n"
     ]
    }
   ],
   "source": [
    "for key, val in mapping1.items():\n",
    "    print(f'{key} : {val}')"
   ]
  },
  {
   "cell_type": "code",
   "execution_count": 47,
   "metadata": {},
   "outputs": [
    {
     "data": {
      "text/plain": [
       "(643781,)"
      ]
     },
     "execution_count": 47,
     "metadata": {},
     "output_type": "execute_result"
    }
   ],
   "source": [
    "model = KMeans(n_clusters=3, random_state=42)\n",
    "model.fit(customers_normalized)\n",
    "model.labels_.shape"
   ]
  },
  {
   "cell_type": "code",
   "execution_count": 48,
   "metadata": {},
   "outputs": [
    {
     "data": {
      "text/html": [
       "<div>\n",
       "<style scoped>\n",
       "    .dataframe tbody tr th:only-of-type {\n",
       "        vertical-align: middle;\n",
       "    }\n",
       "\n",
       "    .dataframe tbody tr th {\n",
       "        vertical-align: top;\n",
       "    }\n",
       "\n",
       "    .dataframe thead th {\n",
       "        text-align: right;\n",
       "    }\n",
       "</style>\n",
       "<table border=\"1\" class=\"dataframe\">\n",
       "  <thead>\n",
       "    <tr style=\"text-align: right;\">\n",
       "      <th></th>\n",
       "      <th>user_id</th>\n",
       "      <th>Recency</th>\n",
       "      <th>Frequency</th>\n",
       "      <th>MonetaryValue</th>\n",
       "      <th>DiscountValue</th>\n",
       "      <th>Product</th>\n",
       "      <th>Cluster</th>\n",
       "    </tr>\n",
       "  </thead>\n",
       "  <tbody>\n",
       "    <tr>\n",
       "      <th>0</th>\n",
       "      <td>50049</td>\n",
       "      <td>205</td>\n",
       "      <td>2</td>\n",
       "      <td>8805.0001</td>\n",
       "      <td>0.0</td>\n",
       "      <td>10</td>\n",
       "      <td>2</td>\n",
       "    </tr>\n",
       "    <tr>\n",
       "      <th>1</th>\n",
       "      <td>50174</td>\n",
       "      <td>386</td>\n",
       "      <td>5</td>\n",
       "      <td>24389.9998</td>\n",
       "      <td>2000.0</td>\n",
       "      <td>13</td>\n",
       "      <td>0</td>\n",
       "    </tr>\n",
       "    <tr>\n",
       "      <th>2</th>\n",
       "      <td>50511</td>\n",
       "      <td>300</td>\n",
       "      <td>3</td>\n",
       "      <td>16246.0021</td>\n",
       "      <td>0.0</td>\n",
       "      <td>11</td>\n",
       "      <td>2</td>\n",
       "    </tr>\n",
       "    <tr>\n",
       "      <th>3</th>\n",
       "      <td>50565</td>\n",
       "      <td>138</td>\n",
       "      <td>4</td>\n",
       "      <td>14108.0010</td>\n",
       "      <td>2478.0</td>\n",
       "      <td>15</td>\n",
       "      <td>0</td>\n",
       "    </tr>\n",
       "    <tr>\n",
       "      <th>4</th>\n",
       "      <td>53762</td>\n",
       "      <td>701</td>\n",
       "      <td>1</td>\n",
       "      <td>5397.9999</td>\n",
       "      <td>0.0</td>\n",
       "      <td>3</td>\n",
       "      <td>1</td>\n",
       "    </tr>\n",
       "  </tbody>\n",
       "</table>\n",
       "</div>"
      ],
      "text/plain": [
       "   user_id  Recency  Frequency  MonetaryValue  DiscountValue  Product  Cluster\n",
       "0    50049      205          2      8805.0001            0.0       10        2\n",
       "1    50174      386          5     24389.9998         2000.0       13        0\n",
       "2    50511      300          3     16246.0021            0.0       11        2\n",
       "3    50565      138          4     14108.0010         2478.0       15        0\n",
       "4    53762      701          1      5397.9999            0.0        3        1"
      ]
     },
     "execution_count": 48,
     "metadata": {},
     "output_type": "execute_result"
    }
   ],
   "source": [
    "rfm[\"Cluster\"] = model.labels_\n",
    "rfm.head()"
   ]
  },
  {
   "cell_type": "code",
   "execution_count": 49,
   "metadata": {},
   "outputs": [
    {
     "data": {
      "text/html": [
       "<div>\n",
       "<style scoped>\n",
       "    .dataframe tbody tr th:only-of-type {\n",
       "        vertical-align: middle;\n",
       "    }\n",
       "\n",
       "    .dataframe tbody tr th {\n",
       "        vertical-align: top;\n",
       "    }\n",
       "\n",
       "    .dataframe thead tr th {\n",
       "        text-align: left;\n",
       "    }\n",
       "\n",
       "    .dataframe thead tr:last-of-type th {\n",
       "        text-align: right;\n",
       "    }\n",
       "</style>\n",
       "<table border=\"1\" class=\"dataframe\">\n",
       "  <thead>\n",
       "    <tr>\n",
       "      <th></th>\n",
       "      <th>Recency</th>\n",
       "      <th>Frequency</th>\n",
       "      <th colspan=\"2\" halign=\"left\">MonetaryValue</th>\n",
       "      <th colspan=\"2\" halign=\"left\">DiscountValue</th>\n",
       "      <th>Product</th>\n",
       "    </tr>\n",
       "    <tr>\n",
       "      <th></th>\n",
       "      <th>mean</th>\n",
       "      <th>mean</th>\n",
       "      <th>mean</th>\n",
       "      <th>count</th>\n",
       "      <th>mean</th>\n",
       "      <th>count</th>\n",
       "      <th>count</th>\n",
       "    </tr>\n",
       "    <tr>\n",
       "      <th>Cluster</th>\n",
       "      <th></th>\n",
       "      <th></th>\n",
       "      <th></th>\n",
       "      <th></th>\n",
       "      <th></th>\n",
       "      <th></th>\n",
       "      <th></th>\n",
       "    </tr>\n",
       "  </thead>\n",
       "  <tbody>\n",
       "    <tr>\n",
       "      <th>0</th>\n",
       "      <td>180.8</td>\n",
       "      <td>7.2</td>\n",
       "      <td>57460.5</td>\n",
       "      <td>45094</td>\n",
       "      <td>12267.0</td>\n",
       "      <td>45094</td>\n",
       "      <td>45094</td>\n",
       "    </tr>\n",
       "    <tr>\n",
       "      <th>1</th>\n",
       "      <td>447.3</td>\n",
       "      <td>1.0</td>\n",
       "      <td>4295.7</td>\n",
       "      <td>443695</td>\n",
       "      <td>47.4</td>\n",
       "      <td>443695</td>\n",
       "      <td>443695</td>\n",
       "    </tr>\n",
       "    <tr>\n",
       "      <th>2</th>\n",
       "      <td>327.1</td>\n",
       "      <td>2.8</td>\n",
       "      <td>17959.2</td>\n",
       "      <td>154992</td>\n",
       "      <td>118.9</td>\n",
       "      <td>154992</td>\n",
       "      <td>154992</td>\n",
       "    </tr>\n",
       "  </tbody>\n",
       "</table>\n",
       "</div>"
      ],
      "text/plain": [
       "        Recency Frequency MonetaryValue         DiscountValue         Product\n",
       "           mean      mean          mean   count          mean   count   count\n",
       "Cluster                                                                      \n",
       "0         180.8       7.2       57460.5   45094       12267.0   45094   45094\n",
       "1         447.3       1.0        4295.7  443695          47.4  443695  443695\n",
       "2         327.1       2.8       17959.2  154992         118.9  154992  154992"
      ]
     },
     "execution_count": 49,
     "metadata": {},
     "output_type": "execute_result"
    }
   ],
   "source": [
    "rfm.groupby('Cluster').agg({\n",
    "    'Recency':'mean',\n",
    "    'Frequency':'mean',\n",
    "    'MonetaryValue':['mean', 'count'],'DiscountValue':['mean', 'count'] , 'Product':'count' }).round(1)"
   ]
  },
  {
   "cell_type": "code",
   "execution_count": 69,
   "metadata": {},
   "outputs": [
    {
     "data": {
      "text/html": [
       "<div>\n",
       "<style scoped>\n",
       "    .dataframe tbody tr th:only-of-type {\n",
       "        vertical-align: middle;\n",
       "    }\n",
       "\n",
       "    .dataframe tbody tr th {\n",
       "        vertical-align: top;\n",
       "    }\n",
       "\n",
       "    .dataframe thead tr th {\n",
       "        text-align: left;\n",
       "    }\n",
       "\n",
       "    .dataframe thead tr:last-of-type th {\n",
       "        text-align: right;\n",
       "    }\n",
       "</style>\n",
       "<table border=\"1\" class=\"dataframe\">\n",
       "  <thead>\n",
       "    <tr>\n",
       "      <th></th>\n",
       "      <th>Recency</th>\n",
       "      <th>Frequency</th>\n",
       "      <th colspan=\"2\" halign=\"left\">MonetaryValue</th>\n",
       "      <th colspan=\"2\" halign=\"left\">DiscountValue</th>\n",
       "      <th>Product</th>\n",
       "    </tr>\n",
       "    <tr>\n",
       "      <th></th>\n",
       "      <th>mean</th>\n",
       "      <th>mean</th>\n",
       "      <th>mean</th>\n",
       "      <th>count</th>\n",
       "      <th>mean</th>\n",
       "      <th>count</th>\n",
       "      <th>count</th>\n",
       "    </tr>\n",
       "    <tr>\n",
       "      <th>Cluster</th>\n",
       "      <th></th>\n",
       "      <th></th>\n",
       "      <th></th>\n",
       "      <th></th>\n",
       "      <th></th>\n",
       "      <th></th>\n",
       "      <th></th>\n",
       "    </tr>\n",
       "  </thead>\n",
       "  <tbody>\n",
       "    <tr>\n",
       "      <th>0</th>\n",
       "      <td>247.3</td>\n",
       "      <td>3.6</td>\n",
       "      <td>18173.7</td>\n",
       "      <td>42394</td>\n",
       "      <td>3562.4</td>\n",
       "      <td>42394</td>\n",
       "      <td>42394</td>\n",
       "    </tr>\n",
       "    <tr>\n",
       "      <th>1</th>\n",
       "      <td>667.6</td>\n",
       "      <td>1.0</td>\n",
       "      <td>3815.8</td>\n",
       "      <td>246792</td>\n",
       "      <td>26.3</td>\n",
       "      <td>246792</td>\n",
       "      <td>246792</td>\n",
       "    </tr>\n",
       "    <tr>\n",
       "      <th>2</th>\n",
       "      <td>133.3</td>\n",
       "      <td>11.1</td>\n",
       "      <td>102526.6</td>\n",
       "      <td>19330</td>\n",
       "      <td>22117.5</td>\n",
       "      <td>19330</td>\n",
       "      <td>19330</td>\n",
       "    </tr>\n",
       "    <tr>\n",
       "      <th>3</th>\n",
       "      <td>332.5</td>\n",
       "      <td>2.8</td>\n",
       "      <td>19095.3</td>\n",
       "      <td>135373</td>\n",
       "      <td>2.4</td>\n",
       "      <td>135373</td>\n",
       "      <td>135373</td>\n",
       "    </tr>\n",
       "    <tr>\n",
       "      <th>4</th>\n",
       "      <td>172.4</td>\n",
       "      <td>1.0</td>\n",
       "      <td>5010.9</td>\n",
       "      <td>199892</td>\n",
       "      <td>36.1</td>\n",
       "      <td>199892</td>\n",
       "      <td>199892</td>\n",
       "    </tr>\n",
       "  </tbody>\n",
       "</table>\n",
       "</div>"
      ],
      "text/plain": [
       "        Recency Frequency MonetaryValue         DiscountValue         Product\n",
       "           mean      mean          mean   count          mean   count   count\n",
       "Cluster                                                                      \n",
       "0         247.3       3.6       18173.7   42394        3562.4   42394   42394\n",
       "1         667.6       1.0        3815.8  246792          26.3  246792  246792\n",
       "2         133.3      11.1      102526.6   19330       22117.5   19330   19330\n",
       "3         332.5       2.8       19095.3  135373           2.4  135373  135373\n",
       "4         172.4       1.0        5010.9  199892          36.1  199892  199892"
      ]
     },
     "execution_count": 69,
     "metadata": {},
     "output_type": "execute_result"
    }
   ],
   "source": [
    "model = KMeans(n_clusters=5, random_state=42)\n",
    "model.fit(customers_normalized)\n",
    "model.labels_.shape\n",
    "rfm[\"Cluster\"] = model.labels_\n",
    "rfm.groupby('Cluster').agg({\n",
    "    'Recency':'mean',\n",
    "    'Frequency':'mean',\n",
    "    'MonetaryValue':['mean', 'count'],'DiscountValue':['mean', 'count'] , 'Product':'count' }).round(1)"
   ]
  },
  {
   "cell_type": "code",
   "execution_count": 70,
   "metadata": {},
   "outputs": [
    {
     "data": {
      "text/html": [
       "<div>\n",
       "<style scoped>\n",
       "    .dataframe tbody tr th:only-of-type {\n",
       "        vertical-align: middle;\n",
       "    }\n",
       "\n",
       "    .dataframe tbody tr th {\n",
       "        vertical-align: top;\n",
       "    }\n",
       "\n",
       "    .dataframe thead th {\n",
       "        text-align: right;\n",
       "    }\n",
       "</style>\n",
       "<table border=\"1\" class=\"dataframe\">\n",
       "  <thead>\n",
       "    <tr style=\"text-align: right;\">\n",
       "      <th></th>\n",
       "      <th>Recency</th>\n",
       "      <th>Frequency</th>\n",
       "      <th>MonetaryValue</th>\n",
       "      <th>DiscountValue</th>\n",
       "      <th>Product</th>\n",
       "      <th>ID</th>\n",
       "      <th>Cluster</th>\n",
       "    </tr>\n",
       "  </thead>\n",
       "  <tbody>\n",
       "    <tr>\n",
       "      <th>0</th>\n",
       "      <td>-0.455966</td>\n",
       "      <td>1.256766</td>\n",
       "      <td>0.213462</td>\n",
       "      <td>-0.320487</td>\n",
       "      <td>0.922435</td>\n",
       "      <td>0</td>\n",
       "      <td>3</td>\n",
       "    </tr>\n",
       "    <tr>\n",
       "      <th>1</th>\n",
       "      <td>0.198714</td>\n",
       "      <td>1.747769</td>\n",
       "      <td>1.294505</td>\n",
       "      <td>1.904528</td>\n",
       "      <td>1.129113</td>\n",
       "      <td>1</td>\n",
       "      <td>0</td>\n",
       "    </tr>\n",
       "    <tr>\n",
       "      <th>2</th>\n",
       "      <td>-0.083692</td>\n",
       "      <td>1.587543</td>\n",
       "      <td>0.818963</td>\n",
       "      <td>-0.320487</td>\n",
       "      <td>0.999124</td>\n",
       "      <td>2</td>\n",
       "      <td>3</td>\n",
       "    </tr>\n",
       "    <tr>\n",
       "      <th>3</th>\n",
       "      <td>-0.783084</td>\n",
       "      <td>1.698200</td>\n",
       "      <td>0.668323</td>\n",
       "      <td>2.069286</td>\n",
       "      <td>1.236132</td>\n",
       "      <td>3</td>\n",
       "      <td>0</td>\n",
       "    </tr>\n",
       "    <tr>\n",
       "      <th>4</th>\n",
       "      <td>1.003805</td>\n",
       "      <td>-0.669328</td>\n",
       "      <td>-0.188821</td>\n",
       "      <td>-0.320487</td>\n",
       "      <td>-0.225835</td>\n",
       "      <td>4</td>\n",
       "      <td>1</td>\n",
       "    </tr>\n",
       "  </tbody>\n",
       "</table>\n",
       "</div>"
      ],
      "text/plain": [
       "    Recency  Frequency  MonetaryValue  DiscountValue   Product  ID  Cluster\n",
       "0 -0.455966   1.256766       0.213462      -0.320487  0.922435   0        3\n",
       "1  0.198714   1.747769       1.294505       1.904528  1.129113   1        0\n",
       "2 -0.083692   1.587543       0.818963      -0.320487  0.999124   2        3\n",
       "3 -0.783084   1.698200       0.668323       2.069286  1.236132   3        0\n",
       "4  1.003805  -0.669328      -0.188821      -0.320487 -0.225835   4        1"
      ]
     },
     "execution_count": 70,
     "metadata": {},
     "output_type": "execute_result"
    }
   ],
   "source": [
    "df_normalized = pd.DataFrame(customers_normalized, columns=['Recency', 'Frequency', 'MonetaryValue', 'DiscountValue', 'Product'])\n",
    "df_normalized['ID'] = rfm.index\n",
    "df_normalized['Cluster'] = model.labels_\n",
    "df_normalized.head()"
   ]
  },
  {
   "cell_type": "code",
   "execution_count": 71,
   "metadata": {},
   "outputs": [
    {
     "data": {
      "text/html": [
       "<div>\n",
       "<style scoped>\n",
       "    .dataframe tbody tr th:only-of-type {\n",
       "        vertical-align: middle;\n",
       "    }\n",
       "\n",
       "    .dataframe tbody tr th {\n",
       "        vertical-align: top;\n",
       "    }\n",
       "\n",
       "    .dataframe thead th {\n",
       "        text-align: right;\n",
       "    }\n",
       "</style>\n",
       "<table border=\"1\" class=\"dataframe\">\n",
       "  <thead>\n",
       "    <tr style=\"text-align: right;\">\n",
       "      <th></th>\n",
       "      <th>ID</th>\n",
       "      <th>Cluster</th>\n",
       "      <th>Attribute</th>\n",
       "      <th>Value</th>\n",
       "    </tr>\n",
       "  </thead>\n",
       "  <tbody>\n",
       "    <tr>\n",
       "      <th>0</th>\n",
       "      <td>0</td>\n",
       "      <td>3</td>\n",
       "      <td>Recency</td>\n",
       "      <td>-0.455966</td>\n",
       "    </tr>\n",
       "    <tr>\n",
       "      <th>1</th>\n",
       "      <td>1</td>\n",
       "      <td>0</td>\n",
       "      <td>Recency</td>\n",
       "      <td>0.198714</td>\n",
       "    </tr>\n",
       "    <tr>\n",
       "      <th>2</th>\n",
       "      <td>2</td>\n",
       "      <td>3</td>\n",
       "      <td>Recency</td>\n",
       "      <td>-0.083692</td>\n",
       "    </tr>\n",
       "    <tr>\n",
       "      <th>3</th>\n",
       "      <td>3</td>\n",
       "      <td>0</td>\n",
       "      <td>Recency</td>\n",
       "      <td>-0.783084</td>\n",
       "    </tr>\n",
       "    <tr>\n",
       "      <th>4</th>\n",
       "      <td>4</td>\n",
       "      <td>1</td>\n",
       "      <td>Recency</td>\n",
       "      <td>1.003805</td>\n",
       "    </tr>\n",
       "  </tbody>\n",
       "</table>\n",
       "</div>"
      ],
      "text/plain": [
       "   ID  Cluster Attribute     Value\n",
       "0   0        3   Recency -0.455966\n",
       "1   1        0   Recency  0.198714\n",
       "2   2        3   Recency -0.083692\n",
       "3   3        0   Recency -0.783084\n",
       "4   4        1   Recency  1.003805"
      ]
     },
     "execution_count": 71,
     "metadata": {},
     "output_type": "execute_result"
    }
   ],
   "source": [
    "df_nor_melt = pd.melt(df_normalized.reset_index(),\n",
    "                      id_vars=['ID', 'Cluster'],\n",
    "                      value_vars=['Recency','Frequency','MonetaryValue','DiscountValue','Product'],\n",
    "                      var_name='Attribute',\n",
    "                      value_name='Value')\n",
    "df_nor_melt.head()"
   ]
  },
  {
   "cell_type": "code",
   "execution_count": 72,
   "metadata": {},
   "outputs": [
    {
     "data": {
      "text/html": [
       "<div>\n",
       "<style scoped>\n",
       "    .dataframe tbody tr th:only-of-type {\n",
       "        vertical-align: middle;\n",
       "    }\n",
       "\n",
       "    .dataframe tbody tr th {\n",
       "        vertical-align: top;\n",
       "    }\n",
       "\n",
       "    .dataframe thead th {\n",
       "        text-align: right;\n",
       "    }\n",
       "</style>\n",
       "<table border=\"1\" class=\"dataframe\">\n",
       "  <thead>\n",
       "    <tr style=\"text-align: right;\">\n",
       "      <th></th>\n",
       "      <th>Cluster</th>\n",
       "      <th>Count</th>\n",
       "      <th>percent</th>\n",
       "    </tr>\n",
       "  </thead>\n",
       "  <tbody>\n",
       "    <tr>\n",
       "      <th>0</th>\n",
       "      <td>0</td>\n",
       "      <td>211970</td>\n",
       "      <td>6.6</td>\n",
       "    </tr>\n",
       "    <tr>\n",
       "      <th>1</th>\n",
       "      <td>1</td>\n",
       "      <td>1233960</td>\n",
       "      <td>38.3</td>\n",
       "    </tr>\n",
       "    <tr>\n",
       "      <th>2</th>\n",
       "      <td>2</td>\n",
       "      <td>96650</td>\n",
       "      <td>3.0</td>\n",
       "    </tr>\n",
       "    <tr>\n",
       "      <th>3</th>\n",
       "      <td>3</td>\n",
       "      <td>676865</td>\n",
       "      <td>21.0</td>\n",
       "    </tr>\n",
       "    <tr>\n",
       "      <th>4</th>\n",
       "      <td>4</td>\n",
       "      <td>999460</td>\n",
       "      <td>31.0</td>\n",
       "    </tr>\n",
       "  </tbody>\n",
       "</table>\n",
       "</div>"
      ],
      "text/plain": [
       "   Cluster    Count  percent\n",
       "0        0   211970      6.6\n",
       "1        1  1233960     38.3\n",
       "2        2    96650      3.0\n",
       "3        3   676865     21.0\n",
       "4        4   999460     31.0"
      ]
     },
     "execution_count": 72,
     "metadata": {},
     "output_type": "execute_result"
    }
   ],
   "source": [
    "fig3 = df_nor_melt.groupby('Cluster').agg({'ID': lambda x: len(x)}).reset_index()\n",
    "\n",
    "\n",
    "# Rename columns\n",
    "fig3.rename(columns={'ID': 'Count'}, inplace=True)\n",
    "fig3['percent'] = (fig3['Count'] / fig3['Count'].sum()) * 100\n",
    "fig3['percent'] = fig3['percent'].round(1)\n",
    "\n",
    "fig3.head()"
   ]
  },
  {
   "cell_type": "code",
   "execution_count": 73,
   "metadata": {},
   "outputs": [
    {
     "data": {
      "application/vnd.plotly.v1+json": {
       "config": {
        "plotlyServerURL": "https://plot.ly"
       },
       "data": [
        {
         "branchvalues": "total",
         "domain": {
          "x": [
           0,
           1
          ],
          "y": [
           0,
           1
          ]
         },
         "hovertemplate": "labels=%{label}<br>Count=%{value}<br>parent=%{parent}<br>id=%{id}<extra></extra>",
         "ids": [
          "0",
          "1",
          "2",
          "3",
          "4"
         ],
         "labels": [
          "0",
          "1",
          "2",
          "3",
          "4"
         ],
         "name": "",
         "parents": [
          "",
          "",
          "",
          "",
          ""
         ],
         "textinfo": "label+text+value+percent root",
         "type": "treemap",
         "values": [
          211970,
          1233960,
          96650,
          676865,
          999460
         ]
        }
       ],
       "layout": {
        "height": 400,
        "legend": {
         "tracegroupgap": 0
        },
        "margin": {
         "b": 25,
         "l": 25,
         "r": 25,
         "t": 50
        },
        "template": {
         "data": {
          "bar": [
           {
            "error_x": {
             "color": "#2a3f5f"
            },
            "error_y": {
             "color": "#2a3f5f"
            },
            "marker": {
             "line": {
              "color": "#E5ECF6",
              "width": 0.5
             },
             "pattern": {
              "fillmode": "overlay",
              "size": 10,
              "solidity": 0.2
             }
            },
            "type": "bar"
           }
          ],
          "barpolar": [
           {
            "marker": {
             "line": {
              "color": "#E5ECF6",
              "width": 0.5
             },
             "pattern": {
              "fillmode": "overlay",
              "size": 10,
              "solidity": 0.2
             }
            },
            "type": "barpolar"
           }
          ],
          "carpet": [
           {
            "aaxis": {
             "endlinecolor": "#2a3f5f",
             "gridcolor": "white",
             "linecolor": "white",
             "minorgridcolor": "white",
             "startlinecolor": "#2a3f5f"
            },
            "baxis": {
             "endlinecolor": "#2a3f5f",
             "gridcolor": "white",
             "linecolor": "white",
             "minorgridcolor": "white",
             "startlinecolor": "#2a3f5f"
            },
            "type": "carpet"
           }
          ],
          "choropleth": [
           {
            "colorbar": {
             "outlinewidth": 0,
             "ticks": ""
            },
            "type": "choropleth"
           }
          ],
          "contour": [
           {
            "colorbar": {
             "outlinewidth": 0,
             "ticks": ""
            },
            "colorscale": [
             [
              0,
              "#0d0887"
             ],
             [
              0.1111111111111111,
              "#46039f"
             ],
             [
              0.2222222222222222,
              "#7201a8"
             ],
             [
              0.3333333333333333,
              "#9c179e"
             ],
             [
              0.4444444444444444,
              "#bd3786"
             ],
             [
              0.5555555555555556,
              "#d8576b"
             ],
             [
              0.6666666666666666,
              "#ed7953"
             ],
             [
              0.7777777777777778,
              "#fb9f3a"
             ],
             [
              0.8888888888888888,
              "#fdca26"
             ],
             [
              1,
              "#f0f921"
             ]
            ],
            "type": "contour"
           }
          ],
          "contourcarpet": [
           {
            "colorbar": {
             "outlinewidth": 0,
             "ticks": ""
            },
            "type": "contourcarpet"
           }
          ],
          "heatmap": [
           {
            "colorbar": {
             "outlinewidth": 0,
             "ticks": ""
            },
            "colorscale": [
             [
              0,
              "#0d0887"
             ],
             [
              0.1111111111111111,
              "#46039f"
             ],
             [
              0.2222222222222222,
              "#7201a8"
             ],
             [
              0.3333333333333333,
              "#9c179e"
             ],
             [
              0.4444444444444444,
              "#bd3786"
             ],
             [
              0.5555555555555556,
              "#d8576b"
             ],
             [
              0.6666666666666666,
              "#ed7953"
             ],
             [
              0.7777777777777778,
              "#fb9f3a"
             ],
             [
              0.8888888888888888,
              "#fdca26"
             ],
             [
              1,
              "#f0f921"
             ]
            ],
            "type": "heatmap"
           }
          ],
          "heatmapgl": [
           {
            "colorbar": {
             "outlinewidth": 0,
             "ticks": ""
            },
            "colorscale": [
             [
              0,
              "#0d0887"
             ],
             [
              0.1111111111111111,
              "#46039f"
             ],
             [
              0.2222222222222222,
              "#7201a8"
             ],
             [
              0.3333333333333333,
              "#9c179e"
             ],
             [
              0.4444444444444444,
              "#bd3786"
             ],
             [
              0.5555555555555556,
              "#d8576b"
             ],
             [
              0.6666666666666666,
              "#ed7953"
             ],
             [
              0.7777777777777778,
              "#fb9f3a"
             ],
             [
              0.8888888888888888,
              "#fdca26"
             ],
             [
              1,
              "#f0f921"
             ]
            ],
            "type": "heatmapgl"
           }
          ],
          "histogram": [
           {
            "marker": {
             "pattern": {
              "fillmode": "overlay",
              "size": 10,
              "solidity": 0.2
             }
            },
            "type": "histogram"
           }
          ],
          "histogram2d": [
           {
            "colorbar": {
             "outlinewidth": 0,
             "ticks": ""
            },
            "colorscale": [
             [
              0,
              "#0d0887"
             ],
             [
              0.1111111111111111,
              "#46039f"
             ],
             [
              0.2222222222222222,
              "#7201a8"
             ],
             [
              0.3333333333333333,
              "#9c179e"
             ],
             [
              0.4444444444444444,
              "#bd3786"
             ],
             [
              0.5555555555555556,
              "#d8576b"
             ],
             [
              0.6666666666666666,
              "#ed7953"
             ],
             [
              0.7777777777777778,
              "#fb9f3a"
             ],
             [
              0.8888888888888888,
              "#fdca26"
             ],
             [
              1,
              "#f0f921"
             ]
            ],
            "type": "histogram2d"
           }
          ],
          "histogram2dcontour": [
           {
            "colorbar": {
             "outlinewidth": 0,
             "ticks": ""
            },
            "colorscale": [
             [
              0,
              "#0d0887"
             ],
             [
              0.1111111111111111,
              "#46039f"
             ],
             [
              0.2222222222222222,
              "#7201a8"
             ],
             [
              0.3333333333333333,
              "#9c179e"
             ],
             [
              0.4444444444444444,
              "#bd3786"
             ],
             [
              0.5555555555555556,
              "#d8576b"
             ],
             [
              0.6666666666666666,
              "#ed7953"
             ],
             [
              0.7777777777777778,
              "#fb9f3a"
             ],
             [
              0.8888888888888888,
              "#fdca26"
             ],
             [
              1,
              "#f0f921"
             ]
            ],
            "type": "histogram2dcontour"
           }
          ],
          "mesh3d": [
           {
            "colorbar": {
             "outlinewidth": 0,
             "ticks": ""
            },
            "type": "mesh3d"
           }
          ],
          "parcoords": [
           {
            "line": {
             "colorbar": {
              "outlinewidth": 0,
              "ticks": ""
             }
            },
            "type": "parcoords"
           }
          ],
          "pie": [
           {
            "automargin": true,
            "type": "pie"
           }
          ],
          "scatter": [
           {
            "fillpattern": {
             "fillmode": "overlay",
             "size": 10,
             "solidity": 0.2
            },
            "type": "scatter"
           }
          ],
          "scatter3d": [
           {
            "line": {
             "colorbar": {
              "outlinewidth": 0,
              "ticks": ""
             }
            },
            "marker": {
             "colorbar": {
              "outlinewidth": 0,
              "ticks": ""
             }
            },
            "type": "scatter3d"
           }
          ],
          "scattercarpet": [
           {
            "marker": {
             "colorbar": {
              "outlinewidth": 0,
              "ticks": ""
             }
            },
            "type": "scattercarpet"
           }
          ],
          "scattergeo": [
           {
            "marker": {
             "colorbar": {
              "outlinewidth": 0,
              "ticks": ""
             }
            },
            "type": "scattergeo"
           }
          ],
          "scattergl": [
           {
            "marker": {
             "colorbar": {
              "outlinewidth": 0,
              "ticks": ""
             }
            },
            "type": "scattergl"
           }
          ],
          "scattermapbox": [
           {
            "marker": {
             "colorbar": {
              "outlinewidth": 0,
              "ticks": ""
             }
            },
            "type": "scattermapbox"
           }
          ],
          "scatterpolar": [
           {
            "marker": {
             "colorbar": {
              "outlinewidth": 0,
              "ticks": ""
             }
            },
            "type": "scatterpolar"
           }
          ],
          "scatterpolargl": [
           {
            "marker": {
             "colorbar": {
              "outlinewidth": 0,
              "ticks": ""
             }
            },
            "type": "scatterpolargl"
           }
          ],
          "scatterternary": [
           {
            "marker": {
             "colorbar": {
              "outlinewidth": 0,
              "ticks": ""
             }
            },
            "type": "scatterternary"
           }
          ],
          "surface": [
           {
            "colorbar": {
             "outlinewidth": 0,
             "ticks": ""
            },
            "colorscale": [
             [
              0,
              "#0d0887"
             ],
             [
              0.1111111111111111,
              "#46039f"
             ],
             [
              0.2222222222222222,
              "#7201a8"
             ],
             [
              0.3333333333333333,
              "#9c179e"
             ],
             [
              0.4444444444444444,
              "#bd3786"
             ],
             [
              0.5555555555555556,
              "#d8576b"
             ],
             [
              0.6666666666666666,
              "#ed7953"
             ],
             [
              0.7777777777777778,
              "#fb9f3a"
             ],
             [
              0.8888888888888888,
              "#fdca26"
             ],
             [
              1,
              "#f0f921"
             ]
            ],
            "type": "surface"
           }
          ],
          "table": [
           {
            "cells": {
             "fill": {
              "color": "#EBF0F8"
             },
             "line": {
              "color": "white"
             }
            },
            "header": {
             "fill": {
              "color": "#C8D4E3"
             },
             "line": {
              "color": "white"
             }
            },
            "type": "table"
           }
          ]
         },
         "layout": {
          "annotationdefaults": {
           "arrowcolor": "#2a3f5f",
           "arrowhead": 0,
           "arrowwidth": 1
          },
          "autotypenumbers": "strict",
          "coloraxis": {
           "colorbar": {
            "outlinewidth": 0,
            "ticks": ""
           }
          },
          "colorscale": {
           "diverging": [
            [
             0,
             "#8e0152"
            ],
            [
             0.1,
             "#c51b7d"
            ],
            [
             0.2,
             "#de77ae"
            ],
            [
             0.3,
             "#f1b6da"
            ],
            [
             0.4,
             "#fde0ef"
            ],
            [
             0.5,
             "#f7f7f7"
            ],
            [
             0.6,
             "#e6f5d0"
            ],
            [
             0.7,
             "#b8e186"
            ],
            [
             0.8,
             "#7fbc41"
            ],
            [
             0.9,
             "#4d9221"
            ],
            [
             1,
             "#276419"
            ]
           ],
           "sequential": [
            [
             0,
             "#0d0887"
            ],
            [
             0.1111111111111111,
             "#46039f"
            ],
            [
             0.2222222222222222,
             "#7201a8"
            ],
            [
             0.3333333333333333,
             "#9c179e"
            ],
            [
             0.4444444444444444,
             "#bd3786"
            ],
            [
             0.5555555555555556,
             "#d8576b"
            ],
            [
             0.6666666666666666,
             "#ed7953"
            ],
            [
             0.7777777777777778,
             "#fb9f3a"
            ],
            [
             0.8888888888888888,
             "#fdca26"
            ],
            [
             1,
             "#f0f921"
            ]
           ],
           "sequentialminus": [
            [
             0,
             "#0d0887"
            ],
            [
             0.1111111111111111,
             "#46039f"
            ],
            [
             0.2222222222222222,
             "#7201a8"
            ],
            [
             0.3333333333333333,
             "#9c179e"
            ],
            [
             0.4444444444444444,
             "#bd3786"
            ],
            [
             0.5555555555555556,
             "#d8576b"
            ],
            [
             0.6666666666666666,
             "#ed7953"
            ],
            [
             0.7777777777777778,
             "#fb9f3a"
            ],
            [
             0.8888888888888888,
             "#fdca26"
            ],
            [
             1,
             "#f0f921"
            ]
           ]
          },
          "colorway": [
           "#636efa",
           "#EF553B",
           "#00cc96",
           "#ab63fa",
           "#FFA15A",
           "#19d3f3",
           "#FF6692",
           "#B6E880",
           "#FF97FF",
           "#FECB52"
          ],
          "font": {
           "color": "#2a3f5f"
          },
          "geo": {
           "bgcolor": "white",
           "lakecolor": "white",
           "landcolor": "#E5ECF6",
           "showlakes": true,
           "showland": true,
           "subunitcolor": "white"
          },
          "hoverlabel": {
           "align": "left"
          },
          "hovermode": "closest",
          "mapbox": {
           "style": "light"
          },
          "paper_bgcolor": "white",
          "plot_bgcolor": "#E5ECF6",
          "polar": {
           "angularaxis": {
            "gridcolor": "white",
            "linecolor": "white",
            "ticks": ""
           },
           "bgcolor": "#E5ECF6",
           "radialaxis": {
            "gridcolor": "white",
            "linecolor": "white",
            "ticks": ""
           }
          },
          "scene": {
           "xaxis": {
            "backgroundcolor": "#E5ECF6",
            "gridcolor": "white",
            "gridwidth": 2,
            "linecolor": "white",
            "showbackground": true,
            "ticks": "",
            "zerolinecolor": "white"
           },
           "yaxis": {
            "backgroundcolor": "#E5ECF6",
            "gridcolor": "white",
            "gridwidth": 2,
            "linecolor": "white",
            "showbackground": true,
            "ticks": "",
            "zerolinecolor": "white"
           },
           "zaxis": {
            "backgroundcolor": "#E5ECF6",
            "gridcolor": "white",
            "gridwidth": 2,
            "linecolor": "white",
            "showbackground": true,
            "ticks": "",
            "zerolinecolor": "white"
           }
          },
          "shapedefaults": {
           "line": {
            "color": "#2a3f5f"
           }
          },
          "ternary": {
           "aaxis": {
            "gridcolor": "white",
            "linecolor": "white",
            "ticks": ""
           },
           "baxis": {
            "gridcolor": "white",
            "linecolor": "white",
            "ticks": ""
           },
           "bgcolor": "#E5ECF6",
           "caxis": {
            "gridcolor": "white",
            "linecolor": "white",
            "ticks": ""
           }
          },
          "title": {
           "x": 0.05
          },
          "xaxis": {
           "automargin": true,
           "gridcolor": "white",
           "linecolor": "white",
           "ticks": "",
           "title": {
            "standoff": 15
           },
           "zerolinecolor": "white",
           "zerolinewidth": 2
          },
          "yaxis": {
           "automargin": true,
           "gridcolor": "white",
           "linecolor": "white",
           "ticks": "",
           "title": {
            "standoff": 15
           },
           "zerolinecolor": "white",
           "zerolinewidth": 2
          }
         }
        },
        "title": {
         "text": "Distribution of Cluster"
        },
        "treemapcolorway": [
         "#bad0af",
         "#d5e0cf",
         "#f1f1f1",
         "#f1d4d4"
        ],
        "width": 800
       }
      }
     },
     "metadata": {},
     "output_type": "display_data"
    }
   ],
   "source": [
    "colors=['#bad0af','#d5e0cf','#f1f1f1','#f1d4d4'] #color palette\n",
    "import plotly.express as px\n",
    "\n",
    "fig = px.treemap(fig3, path=['Cluster'],values='Count'\n",
    "                 , width=800, height=400\n",
    "                 ,title=\"Distribution of Cluster\")\n",
    "\n",
    "fig.update_layout(\n",
    "    treemapcolorway = colors, #defines the colors in the treemap\n",
    "    margin = dict(t=50, l=25, r=25, b=25))\n",
    "\n",
    "fig.data[0].textinfo = 'label+text+value+percent root'\n",
    "fig.show()"
   ]
  },
  {
   "cell_type": "code",
   "execution_count": 80,
   "metadata": {},
   "outputs": [
    {
     "data": {
      "text/plain": [
       "<Axes: xlabel='Attribute', ylabel='Value'>"
      ]
     },
     "execution_count": 80,
     "metadata": {},
     "output_type": "execute_result"
    },
    {
     "data": {
      "image/png": "[encoded data removed]",
      "text/plain": [
       "<Figure size 640x480 with 1 Axes>"
      ]
     },
     "metadata": {},
     "output_type": "display_data"
    }
   ],
   "source": [
    "#sns_df = pd.DataFrame(df_nor_melt,columns=['Recency', 'Frequency', 'MonetaryValue'])\n",
    "sns_df = df_nor_melt[df_nor_melt['Attribute'].isin(['Recency', 'Frequency', 'MonetaryValue'])]\n",
    "sns.lineplot(x='Attribute', y='Value', hue='Cluster', data=sns_df)"
   ]
  },
  {
   "cell_type": "code",
   "execution_count": 81,
   "metadata": {},
   "outputs": [
    {
     "data": {
      "text/plain": [
       "<Axes: xlabel='Attribute', ylabel='Value'>"
      ]
     },
     "execution_count": 81,
     "metadata": {},
     "output_type": "execute_result"
    },
    {
     "data": {
      "image/png": "[encoded data removed]",
      "text/plain": [
       "<Figure size 640x480 with 1 Axes>"
      ]
     },
     "metadata": {},
     "output_type": "display_data"
    }
   ],
   "source": [
    "sns.lineplot(x='Attribute', y='Value', hue='Cluster', data=df_nor_melt)"
   ]
  },
  {
   "cell_type": "markdown",
   "metadata": {},
   "source": [
    "2: recent transaction, frequent by, high value transction (loyal)\n",
    "4: last transaction while ago, not frequent, low value transction \n",
    "0: log time ago transction, frequent buy, hign value (new customer buy discounted product)\n",
    "3: log time ago tranction, frquent buy, high value (new customer not buy discounted product)\n",
    "1: very log back transction, low frequncy, low value   (lost customer)"
   ]
  },
  {
   "cell_type": "code",
   "execution_count": null,
   "metadata": {},
   "outputs": [],
   "source": []
  }
 ],
 "metadata": {
  "kernelspec": {
   "display_name": "Python 3",
   "language": "python",
   "name": "python3"
  },
  "language_info": {
   "codemirror_mode": {
    "name": "ipython",
    "version": 3
   },
   "file_extension": ".py",
   "mimetype": "text/x-python",
   "name": "python",
   "nbconvert_exporter": "python",
   "pygments_lexer": "ipython3",
   "version": "3.10.14"
  }
 },
 "nbformat": 4,
 "nbformat_minor": 2
}
